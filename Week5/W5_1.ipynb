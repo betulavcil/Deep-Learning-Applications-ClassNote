{
  "nbformat": 4,
  "nbformat_minor": 0,
  "metadata": {
    "colab": {
      "provenance": []
    },
    "kernelspec": {
      "name": "python3",
      "display_name": "Python 3"
    },
    "language_info": {
      "name": "python"
    }
  },
  "cells": [
    {
      "cell_type": "code",
      "execution_count": null,
      "metadata": {
        "id": "sOuhNjIgzWvp"
      },
      "outputs": [],
      "source": [
        "import pandas as pd\n",
        "import numpy as np\n",
        "url= 'https://archive.ics.uci.edu/ml/machine-learning-databases/iris/iris.data'\n",
        "label_headings=[\"x1\",\"x2\",\"x3\",\"x4\",\"ClassName\"]\n",
        "my_file=pd.read_csv(url,names=label_headings)\n",
        "print(my_file)\n",
        "#bu vektoru verdigimde bana o sinifi vermesini istiyore yani her sinifi adlandiriyorum\n",
        "# x1-x4:input classname:output\n",
        "#vizede arrayname.iloc var!!!!!!!!!"
      ]
    },
    {
      "cell_type": "code",
      "source": [
        "my_input=my_file.iloc[0:150,0:4]\n",
        "#index hesabi yapiliyo yani 0-149. indexteki rowlar& 0-3.indexteki columnlar bastirilir\n",
        "# 0:150 bu 0.index dahil 150.index dahil degil demek\n",
        "print(my_input)\n",
        "my_output=my_file.iloc[0:150,4:5]\n",
        "print(my_output)"
      ],
      "metadata": {
        "id": "cUCH8r8_8KDl"
      },
      "execution_count": null,
      "outputs": []
    },
    {
      "cell_type": "markdown",
      "source": [
        "W5_2 ye geciyoruz <br>\n",
        "geldik"
      ],
      "metadata": {
        "id": "IjL2wXa6_6j3"
      }
    },
    {
      "cell_type": "code",
      "source": [
        "from sklearn.neighbors import KNeighborsClassifier\n",
        "my_iris_learner=KNeighborsClassifier(n_neighbors=5,weights='uniform')\n",
        "my_iris_learner.fit(my_input,my_output)"
      ],
      "metadata": {
        "id": "5ydLRqtUAJkF"
      },
      "execution_count": null,
      "outputs": []
    },
    {
      "cell_type": "markdown",
      "source": [
        "*DataConversionWarning: A column-vector y was passed when a 1d array was expected. Please change the shape of y to (n_samples,), for example using ravel().\n",
        "  return self._fit(X, y)*\n",
        "\n",
        "**Yukarida bir hata ile karsilastik hata bize ne diyor**\n",
        "\n",
        "ben array bekliyordum sen bana column vektor (ne oldugunu bilmedigi bir sey) gonderdin diyor\n",
        "\n",
        "*Please change the shape of y to (n_samples,), for example using ravel().*\n",
        "\n",
        "sekil degistir diyor <br>\n",
        "print(my_input.shape) <br>\n",
        "print(my_output.shape) yapacagiz\n",
        "\n",
        "ravel kullan demis bize yaz google documantion a bak ne cikar burdan bize isimize yarar mi\n",
        "[https://numpy.org/doc/stable/reference/generated/numpy.ravel.html]\n",
        "...colab burdaki datayi kullanir.\n",
        "\n",
        "**my_output_array=np.ravel(my_output)** <br>\n",
        "bunun parametreleri ne? <br> **array_Like:** arraya benzeyen bir sey var ne belli degil ben ona bunu vericem o bana bunu arraya ceviricek\n",
        "\n"
      ],
      "metadata": {
        "id": "-TbqkWtJU6ca"
      }
    },
    {
      "cell_type": "code",
      "source": [
        "from sklearn.neighbors import KNeighborsClassifier\n",
        "\n",
        "my_iris_learner=KNeighborsClassifier(n_neighbors=5,weights='uniform')\n",
        "\n",
        "print(my_input.shape) #ciktiyi gormek icin yazdik\n",
        "print(my_output.shape) #ciktiyi gormek icin yazdik\n",
        "\n",
        "my_output_array=np.ravel(my_output)\n",
        "my_input_array=np.ravel(my_input)\n",
        "\n",
        "#print(my_output_array.shape)\n",
        "#print(my_input_array.shape)\n",
        "#print(my_output,my_output_array)\n",
        "\n",
        "my_iris_learner.fit(my_input,my_output_array)"
      ],
      "metadata": {
        "id": "bglpPNhtW_0-",
        "colab": {
          "base_uri": "https://localhost:8080/"
        },
        "outputId": "25246f6b-06bb-4aca-a76b-f3b53438503a"
      },
      "execution_count": null,
      "outputs": [
        {
          "output_type": "stream",
          "name": "stdout",
          "text": [
            "(150, 4)\n",
            "(150, 1)\n"
          ]
        },
        {
          "output_type": "execute_result",
          "data": {
            "text/plain": [
              "KNeighborsClassifier()"
            ]
          },
          "metadata": {},
          "execution_count": 9
        }
      ]
    },
    {
      "cell_type": "markdown",
      "source": [
        "# **YENI ORNEK**\n",
        "Train ve testing datayi random yerine bastan sira ile ayirdik, bunu nasil ogrenecegini(ogrenemeyecegini) ve neden random secmemiz gerektigini gorecegiz"
      ],
      "metadata": {
        "id": "5QkWCPi9fDOH"
      }
    },
    {
      "cell_type": "code",
      "source": [
        "#103 lu halini de dene\n",
        "my_input_train=my_file.iloc[0:115,0:4]\n",
        "my_input_test=my_file.iloc[115:150,0:4]\n",
        "print(my_input_train)\n",
        "\n",
        "my_output_train=my_file.iloc[0:115,4:5]\n",
        "my_output_test=my_file.iloc[115:150,4:5]\n",
        "print(my_output_train)"
      ],
      "metadata": {
        "id": "JIton8krYuLa",
        "colab": {
          "base_uri": "https://localhost:8080/"
        },
        "outputId": "0f580152-e397-4634-ac8c-df1ad0f30b9b"
      },
      "execution_count": null,
      "outputs": [
        {
          "output_type": "stream",
          "name": "stdout",
          "text": [
            "      x1   x2   x3   x4\n",
            "0    5.1  3.5  1.4  0.2\n",
            "1    4.9  3.0  1.4  0.2\n",
            "2    4.7  3.2  1.3  0.2\n",
            "3    4.6  3.1  1.5  0.2\n",
            "4    5.0  3.6  1.4  0.2\n",
            "..   ...  ...  ...  ...\n",
            "110  6.5  3.2  5.1  2.0\n",
            "111  6.4  2.7  5.3  1.9\n",
            "112  6.8  3.0  5.5  2.1\n",
            "113  5.7  2.5  5.0  2.0\n",
            "114  5.8  2.8  5.1  2.4\n",
            "\n",
            "[115 rows x 4 columns]\n",
            "          ClassName\n",
            "0       Iris-setosa\n",
            "1       Iris-setosa\n",
            "2       Iris-setosa\n",
            "3       Iris-setosa\n",
            "4       Iris-setosa\n",
            "..              ...\n",
            "110  Iris-virginica\n",
            "111  Iris-virginica\n",
            "112  Iris-virginica\n",
            "113  Iris-virginica\n",
            "114  Iris-virginica\n",
            "\n",
            "[115 rows x 1 columns]\n"
          ]
        }
      ]
    },
    {
      "cell_type": "code",
      "source": [
        "from sklearn.neighbors import KNeighborsClassifier\n",
        "my_iris_learner=KNeighborsClassifier(n_neighbors=5,weights='uniform')\n",
        "\n",
        "my_output_array_train=np.ravel(my_output_train)\n",
        "my_output_array_test=np.ravel(my_output_test)\n",
        "\n",
        "my_iris_learner.fit(my_input_train,my_output_array_train)\n",
        "print('Expected Data', my_output_array_test)\n",
        "print('Calculated Data', my_iris_learner.predict(my_input_test))"
      ],
      "metadata": {
        "id": "FNxlQf3AZQF8",
        "colab": {
          "base_uri": "https://localhost:8080/"
        },
        "outputId": "6dadc12e-7d03-4ce7-c27b-67ff63aa877c"
      },
      "execution_count": null,
      "outputs": [
        {
          "output_type": "stream",
          "name": "stdout",
          "text": [
            "Expected Data ['Iris-virginica' 'Iris-virginica' 'Iris-virginica' 'Iris-virginica'\n",
            " 'Iris-virginica' 'Iris-virginica' 'Iris-virginica' 'Iris-virginica'\n",
            " 'Iris-virginica' 'Iris-virginica' 'Iris-virginica' 'Iris-virginica'\n",
            " 'Iris-virginica' 'Iris-virginica' 'Iris-virginica' 'Iris-virginica'\n",
            " 'Iris-virginica' 'Iris-virginica' 'Iris-virginica' 'Iris-virginica'\n",
            " 'Iris-virginica' 'Iris-virginica' 'Iris-virginica' 'Iris-virginica'\n",
            " 'Iris-virginica' 'Iris-virginica' 'Iris-virginica' 'Iris-virginica'\n",
            " 'Iris-virginica' 'Iris-virginica' 'Iris-virginica' 'Iris-virginica'\n",
            " 'Iris-virginica' 'Iris-virginica' 'Iris-virginica']\n",
            "Calculated Data ['Iris-virginica' 'Iris-virginica' 'Iris-virginica' 'Iris-virginica'\n",
            " 'Iris-versicolor' 'Iris-virginica' 'Iris-virginica' 'Iris-virginica'\n",
            " 'Iris-versicolor' 'Iris-virginica' 'Iris-virginica' 'Iris-versicolor'\n",
            " 'Iris-versicolor' 'Iris-virginica' 'Iris-virginica' 'Iris-virginica'\n",
            " 'Iris-virginica' 'Iris-virginica' 'Iris-versicolor' 'Iris-virginica'\n",
            " 'Iris-virginica' 'Iris-virginica' 'Iris-virginica' 'Iris-versicolor'\n",
            " 'Iris-virginica' 'Iris-virginica' 'Iris-virginica' 'Iris-virginica'\n",
            " 'Iris-virginica' 'Iris-virginica' 'Iris-virginica' 'Iris-virginica'\n",
            " 'Iris-virginica' 'Iris-virginica' 'Iris-versicolor']\n"
          ]
        }
      ]
    },
    {
      "cell_type": "markdown",
      "source": [
        "# **Random ayirmak icin**\n",
        "\n",
        "Datayi sira ile degilde random ayirmak istiyorsak (ki istesen de istemesende oyle yapman lazim)\n",
        "\n",
        "split() fonks kullaniriz\n",
        "!kullanmadan once import etmeyi unutma train_test_split\n",
        "\n",
        "my_x_train,my_x_test,my_y_train,my_y_test=train_test_split(my_file.iloc[0:150,0:4],my_file.iloc[0:150,4:6],test_size=0.25)\n",
        "\n",
        "\n",
        "%75'e %25'e ayrilsin istiyorsak test_size=25 demeliyiz"
      ],
      "metadata": {
        "id": "X4yCoeerhTmX"
      }
    },
    {
      "cell_type": "code",
      "source": [
        "from sklearn.model_selection import train_test_split\n",
        "\n",
        "my_x_train,my_x_test,my_y_train,my_y_test=train_test_split(my_file.iloc[0:150,0:4],my_file.iloc[0:150,4:6],test_size=0.25)\n",
        "\n",
        "print(my_x_train,my_x_test,my_y_train,my_y_test)"
      ],
      "metadata": {
        "id": "0vuChPpja32O"
      },
      "execution_count": null,
      "outputs": []
    }
  ]
}