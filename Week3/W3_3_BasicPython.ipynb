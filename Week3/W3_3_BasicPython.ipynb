{
  "nbformat": 4,
  "nbformat_minor": 0,
  "metadata": {
    "colab": {
      "provenance": []
    },
    "kernelspec": {
      "name": "python3",
      "display_name": "Python 3"
    },
    "language_info": {
      "name": "python"
    }
  },
  "cells": [
    {
      "cell_type": "markdown",
      "source": [
        "Basic Python Commands"
      ],
      "metadata": {
        "id": "KY2pikpCIqqR"
      }
    },
    {
      "cell_type": "markdown",
      "source": [
        "Defining Variables"
      ],
      "metadata": {
        "id": "e2KUHZNlJFuA"
      }
    },
    {
      "cell_type": "code",
      "execution_count": null,
      "metadata": {
        "colab": {
          "base_uri": "https://localhost:8080/"
        },
        "id": "ytDBqG4Lz70u",
        "outputId": "93a1d395-6249-4099-f63a-d95a69a2d51a"
      },
      "outputs": [
        {
          "output_type": "stream",
          "name": "stdout",
          "text": [
            "sample text 10 20.3 now finally=  10.3 hello this is sample text file\n"
          ]
        }
      ],
      "source": [
        "x=10\n",
        "y=10.3\n",
        "z=x+y\n",
        "t=\"hello this is sample text file\"\n",
        "print(\"sample text\",x,z,\"now finally= \", y,t)"
      ]
    },
    {
      "cell_type": "markdown",
      "source": [
        "If Statement Similar to C conditions \\\n",
        "\"== Equal\" \"!=Not Equal\" \">\" <\" \">=\" \"<=\""
      ],
      "metadata": {
        "id": "_KPC8fTK1gTl"
      }
    },
    {
      "cell_type": "code",
      "source": [
        "if y>x :\n",
        "  print(y,\"greater than \",x)\n",
        "else:\n",
        "  print(x, \"is equal or greater\")\n",
        "\n",
        "if x==y:\n",
        "  print(x,\"is equal to \",y)\n",
        "else:\n",
        "  print(\"not equal\")"
      ],
      "metadata": {
        "colab": {
          "base_uri": "https://localhost:8080/"
        },
        "id": "c07dIlHY2FwE",
        "outputId": "72fcdb58-1017-44ff-a447-389d872de409"
      },
      "execution_count": null,
      "outputs": [
        {
          "output_type": "stream",
          "name": "stdout",
          "text": [
            "10.3 greater than  10\n",
            "not equal\n"
          ]
        }
      ]
    },
    {
      "cell_type": "markdown",
      "source": [
        "pythonda süslü parentez kullanılmaz.Onun yerine girinti (indent) kullanılır. if, else, while, do gibi yapılarda yapının başladığını belirtmek için sonuna üstüste iki nokta konur ör: if condition: şeklinde tanımlanır. Enter a bastığımızda bizi bir alt satıra ve girdili olarak atarak. Eğer yanlışlıkla bu boşluğu silersek \"TAB\" tuşunu kullanarak (caps lockun üstündeki oklu tuş) girdi oluşturabiliriz. Normal boşluk tuşu ile boşluk bırakmak indent sayılmaz!!!!!!\n",
        "\n",
        "İndentlere dikkat et. En çok burdan hata çıkıyooru"
      ],
      "metadata": {
        "id": "aUWflvVz2wYo"
      }
    },
    {
      "cell_type": "markdown",
      "source": [
        "**Nested if statements**"
      ],
      "metadata": {
        "id": "ZVLySjl44mqP"
      }
    },
    {
      "cell_type": "code",
      "source": [
        "if x==y:\n",
        "  print(\"Birinci if in icindeyiz\")\n",
        "  print(x,\"=\",y)\n",
        "else:\n",
        "  if x>y:\n",
        "    print(\"Birinci else icindeyiz ve\")\n",
        "    print(x,\">\",y)\n",
        "  else:\n",
        "    if x<y:\n",
        "      print(\"ikinci else icindeki if in icindeyiz\")\n",
        "      print(x,\"<\", y)\n",
        "    else:\n",
        "      print(\"son else in icindeyiz\")"
      ],
      "metadata": {
        "colab": {
          "base_uri": "https://localhost:8080/"
        },
        "id": "dIc4XPFd4k9c",
        "outputId": "77371004-e724-4fe0-b532-d0ec9162d043"
      },
      "execution_count": null,
      "outputs": [
        {
          "output_type": "stream",
          "name": "stdout",
          "text": [
            "ikinci else icindeki if in icindeyiz\n",
            "10 < 10.3\n"
          ]
        }
      ]
    },
    {
      "cell_type": "markdown",
      "source": [
        "**For loop**"
      ],
      "metadata": {
        "id": "r8JHe0-LG_1B"
      }
    },
    {
      "cell_type": "code",
      "source": [
        "for k in range(5,10):\n",
        "  print(\"This is the result of knn with k=\", k)"
      ],
      "metadata": {
        "colab": {
          "base_uri": "https://localhost:8080/"
        },
        "id": "KAUHLHsdG_Rg",
        "outputId": "979eff2e-b1fd-43e0-c441-515f75a2cf83"
      },
      "execution_count": null,
      "outputs": [
        {
          "output_type": "stream",
          "name": "stdout",
          "text": [
            "This is the result of knn with k= 5\n",
            "This is the result of knn with k= 6\n",
            "This is the result of knn with k= 7\n",
            "This is the result of knn with k= 8\n",
            "This is the result of knn with k= 9\n"
          ]
        }
      ]
    },
    {
      "cell_type": "markdown",
      "source": [
        "**While Loop**"
      ],
      "metadata": {
        "id": "OoxoLeNhHVMs"
      }
    },
    {
      "cell_type": "code",
      "source": [
        "a=1\n",
        "while a<=10:\n",
        "  print(a)\n",
        "  a=a+1"
      ],
      "metadata": {
        "colab": {
          "base_uri": "https://localhost:8080/"
        },
        "id": "lZJq_mBKHQkM",
        "outputId": "5be65868-633a-46b4-d1e6-4c37c63bf4e8"
      },
      "execution_count": null,
      "outputs": [
        {
          "output_type": "stream",
          "name": "stdout",
          "text": [
            "1\n",
            "2\n",
            "3\n",
            "4\n",
            "5\n",
            "6\n",
            "7\n",
            "8\n",
            "9\n",
            "10\n"
          ]
        }
      ]
    },
    {
      "cell_type": "markdown",
      "source": [
        "**Functions and use**"
      ],
      "metadata": {
        "id": "tOLxjCGmHsHJ"
      }
    },
    {
      "cell_type": "code",
      "source": [
        "def myfunction(var1,var2,cookie):\n",
        "  print(\"Written in the function\", cookie)\n",
        "  return var1*myfunction2(var2)+cookie\n",
        "def myfunction2(x):\n",
        "  print(\"Written in f2\")\n",
        "  return x*x\n",
        "print(myfunction(myfunction2(5),10,4))"
      ],
      "metadata": {
        "colab": {
          "base_uri": "https://localhost:8080/"
        },
        "id": "H2kgCySHHz6F",
        "outputId": "03f95a15-93e5-4e45-d686-72603d14bc83"
      },
      "execution_count": null,
      "outputs": [
        {
          "output_type": "stream",
          "name": "stdout",
          "text": [
            "Written in f2\n",
            "Written in the function 4\n",
            "Written in f2\n",
            "2504\n"
          ]
        }
      ]
    }
  ]
}