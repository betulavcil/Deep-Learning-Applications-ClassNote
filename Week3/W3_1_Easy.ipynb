{
  "nbformat": 4,
  "nbformat_minor": 0,
  "metadata": {
    "colab": {
      "provenance": []
    },
    "kernelspec": {
      "name": "python3",
      "display_name": "Python 3"
    },
    "language_info": {
      "name": "python"
    }
  },
  "cells": [
    {
      "cell_type": "markdown",
      "source": [
        "# **DEEP LEARNING APPLICATION**\n",
        "  Week 3 \\\n",
        "  Örnek uygulamalar\\\n",
        "Python dili kullanılır. PyCharm, Anaconda, Visual Studio gibi ideler de kullanılabilir."
      ],
      "metadata": {
        "id": "qxE64-UMpdl5"
      }
    },
    {
      "cell_type": "code",
      "execution_count": null,
      "metadata": {
        "id": "D_s34O6wnpT6"
      },
      "outputs": [],
      "source": [
        "print(\"hello\")\n",
        "print(\"this is my seconda line x\")"
      ]
    },
    {
      "cell_type": "code",
      "source": [
        "print(\"second block\")"
      ],
      "metadata": {
        "id": "6oKn5KBGvfje"
      },
      "execution_count": null,
      "outputs": []
    },
    {
      "cell_type": "markdown",
      "source": [
        "yukarıda bulunan +Kod a basarak kod satırı ekleyebilir ya da +Metin e basarak metin ekleyebilir ve notumuzu kişiselleştirebilir, rapor şekline dönüştürebiliriz.\n",
        "\n",
        "Metin bloğunun sağ tarafında bulunan şekilleri kullanıp yazdığımız bu bloğu ya da üstteki satırların yerini değiştirebilir, silebilir vb işlemler yapabiliriz."
      ],
      "metadata": {
        "id": "5vtUQB-1vjfQ"
      }
    },
    {
      "cell_type": "markdown",
      "source": [
        "Uzun bir kod yazarken yazdığımız kodu bloklara ayırabileceğimiz şekilde tasarlanan bu yapının bir dezavantajı şudur ki:\n",
        "- üst bloklarda bir variable tanımlayıp ilk değerini atadığımızda ve alt bloklarda bu variab kullanarak bir kod yazdığımızda eğer üst bloktaki ilk değeri değiştirirsek o variab olduğu tüm kod bloklarını tekrar run etmemiz gerekir. Eğer bunu yapmayı unutursak yanarsınız yaa uzatmaya gerek yok, yap işte....."
      ],
      "metadata": {
        "id": "PNqn4e2NwwuF"
      }
    }
  ]
}